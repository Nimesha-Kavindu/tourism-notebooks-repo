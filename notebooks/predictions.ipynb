{
 "cells": [
  {
   "cell_type": "markdown",
   "id": "a3fc14cc",
   "metadata": {},
   "source": [
    "# 1. Setup"
   ]
  },
  {
   "cell_type": "code",
   "execution_count": 7,
   "id": "b3968d04",
   "metadata": {},
   "outputs": [],
   "source": [
    "import pandas as pd\n",
    "import numpy as np\n",
    "import matplotlib.pyplot as plt\n",
    "from statsmodels.tsa.statespace.sarimax import SARIMAX\n",
    "from sklearn.metrics import mean_squared_error, mean_absolute_error"
   ]
  },
  {
   "cell_type": "markdown",
   "id": "aab5aa01",
   "metadata": {},
   "source": [
    "# 2. Load and prepare data"
   ]
  },
  {
   "cell_type": "code",
   "execution_count": 8,
   "id": "1d011dc4",
   "metadata": {},
   "outputs": [],
   "source": [
    "df = pd.read_csv(\"../data/tourism_clean.csv\")"
   ]
  },
  {
   "cell_type": "code",
   "execution_count": 9,
   "id": "f6620c85",
   "metadata": {},
   "outputs": [],
   "source": [
    "df[\"date\"] = pd.to_datetime(df[\"date\"])"
   ]
  },
  {
   "cell_type": "code",
   "execution_count": 10,
   "id": "c9260f83",
   "metadata": {},
   "outputs": [],
   "source": [
    "df = df.set_index(\"date\")"
   ]
  },
  {
   "cell_type": "code",
   "execution_count": 15,
   "id": "e8674a93",
   "metadata": {},
   "outputs": [],
   "source": [
    "df[\"tourism_revenue_usd\"] = pd.to_numeric(df[\"tourism_revenue_usd\"], errors=\"coerce\")"
   ]
  },
  {
   "cell_type": "code",
   "execution_count": 17,
   "id": "0d71093c",
   "metadata": {},
   "outputs": [],
   "source": [
    "df = df.dropna(subset=[\"tourism_revenue_usd\"])"
   ]
  },
  {
   "cell_type": "code",
   "execution_count": 19,
   "id": "1e85b65f",
   "metadata": {},
   "outputs": [
    {
     "name": "stderr",
     "output_type": "stream",
     "text": [
      "C:\\Users\\nimes\\AppData\\Local\\Temp\\ipykernel_20084\\2641924149.py:1: FutureWarning: 'M' is deprecated and will be removed in a future version, please use 'ME' instead.\n",
      "  revenue = df[\"tourism_revenue_usd\"].resample(\"M\").mean().fillna(method=\"ffill\")\n",
      "C:\\Users\\nimes\\AppData\\Local\\Temp\\ipykernel_20084\\2641924149.py:1: FutureWarning: Series.fillna with 'method' is deprecated and will raise in a future version. Use obj.ffill() or obj.bfill() instead.\n",
      "  revenue = df[\"tourism_revenue_usd\"].resample(\"M\").mean().fillna(method=\"ffill\")\n"
     ]
    }
   ],
   "source": [
    "revenue = df[\"tourism_revenue_usd\"].resample(\"M\").mean().fillna(method=\"ffill\")"
   ]
  },
  {
   "cell_type": "markdown",
   "id": "2e651bc5",
   "metadata": {},
   "source": [
    "# 3. Train/Test split"
   ]
  },
  {
   "cell_type": "code",
   "execution_count": 20,
   "id": "82364159",
   "metadata": {},
   "outputs": [
    {
     "name": "stdout",
     "output_type": "stream",
     "text": [
      "Train period: 2010-01-31 00:00:00 to 2023-12-31 00:00:00\n",
      "Test period: 2024-01-31 00:00:00 to 2024-12-31 00:00:00\n"
     ]
    }
   ],
   "source": [
    "train = revenue.iloc[:-12]\n",
    "test = revenue.iloc[-12:]\n",
    "\n",
    "print(\"Train period:\", train.index.min(), \"to\", train.index.max())\n",
    "print(\"Test period:\", test.index.min(), \"to\", test.index.max())"
   ]
  },
  {
   "cell_type": "markdown",
   "id": "727c6ad7",
   "metadata": {},
   "source": [
    "# 4. Build SARIMAX model"
   ]
  },
  {
   "cell_type": "code",
   "execution_count": 21,
   "id": "53416dfc",
   "metadata": {},
   "outputs": [
    {
     "name": "stdout",
     "output_type": "stream",
     "text": [
      "                                     SARIMAX Results                                      \n",
      "==========================================================================================\n",
      "Dep. Variable:                tourism_revenue_usd   No. Observations:                  168\n",
      "Model:             SARIMAX(1, 1, 1)x(1, 1, 1, 12)   Log Likelihood               -2666.103\n",
      "Date:                            Sat, 06 Sep 2025   AIC                           5342.207\n",
      "Time:                                    14:48:17   BIC                           5356.950\n",
      "Sample:                                01-31-2010   HQIC                          5348.198\n",
      "                                     - 12-31-2023                                         \n",
      "Covariance Type:                              opg                                         \n",
      "==============================================================================\n",
      "                 coef    std err          z      P>|z|      [0.025      0.975]\n",
      "------------------------------------------------------------------------------\n",
      "ar.L1         -0.5019      0.287     -1.748      0.080      -1.064       0.061\n",
      "ma.L1          0.6857      0.259      2.645      0.008       0.178       1.194\n",
      "ar.S.L12       0.3131      0.133      2.350      0.019       0.052       0.574\n",
      "ma.S.L12      -0.8254      0.088     -9.385      0.000      -0.998      -0.653\n",
      "sigma2       1.89e+15        nan        nan        nan         nan         nan\n",
      "===================================================================================\n",
      "Ljung-Box (L1) (Q):                   0.20   Jarque-Bera (JB):               151.91\n",
      "Prob(Q):                              0.65   Prob(JB):                         0.00\n",
      "Heteroskedasticity (H):               2.02   Skew:                            -0.62\n",
      "Prob(H) (two-sided):                  0.02   Kurtosis:                         7.93\n",
      "===================================================================================\n",
      "\n",
      "Warnings:\n",
      "[1] Covariance matrix calculated using the outer product of gradients (complex-step).\n",
      "[2] Covariance matrix is singular or near-singular, with condition number 1.08e+47. Standard errors may be unstable.\n"
     ]
    }
   ],
   "source": [
    "model = SARIMAX(train, order=(1,1,1), seasonal_order=(1,1,1,12), \n",
    "                enforce_stationarity=False, enforce_invertibility=False)\n",
    "\n",
    "results = model.fit(disp=False)\n",
    "\n",
    "print(results.summary())"
   ]
  },
  {
   "cell_type": "markdown",
   "id": "21132c55",
   "metadata": {},
   "source": [
    "# 5. Forecast"
   ]
  },
  {
   "cell_type": "code",
   "execution_count": 22,
   "id": "a45a75bc",
   "metadata": {},
   "outputs": [
    {
     "data": {
      "image/png": "[encoded data removed]",
      "text/plain": [
       "<Figure size 1000x500 with 1 Axes>"
      ]
     },
     "metadata": {},
     "output_type": "display_data"
    }
   ],
   "source": [
    "forecast = results.get_forecast(steps=12)\n",
    "forecast_mean = forecast.predicted_mean\n",
    "forecast_ci = forecast.conf_int()\n",
    "\n",
    "# Plot forecast vs actual\n",
    "plt.figure(figsize=(10,5))\n",
    "plt.plot(train.index, train, label=\"Train\")\n",
    "plt.plot(test.index, test, label=\"Test\", color=\"orange\")\n",
    "plt.plot(test.index, forecast_mean, label=\"Forecast\", color=\"red\")\n",
    "plt.fill_between(test.index, forecast_ci.iloc[:,0], forecast_ci.iloc[:,1], \n",
    "                 color=\"pink\", alpha=0.3)\n",
    "plt.title(\"Tourism Revenue Forecast (SARIMAX)\")\n",
    "plt.legend()\n",
    "plt.show()"
   ]
  },
  {
   "cell_type": "markdown",
   "id": "b508f21b",
   "metadata": {},
   "source": [
    "# 6. Evaluate model"
   ]
  },
  {
   "cell_type": "code",
   "execution_count": 23,
   "id": "e14361d3",
   "metadata": {},
   "outputs": [
    {
     "name": "stdout",
     "output_type": "stream",
     "text": [
      "RMSE: 72723881.63, MAE: 62809035.31\n"
     ]
    }
   ],
   "source": [
    "rmse = np.sqrt(mean_squared_error(test, forecast_mean))\n",
    "mae = mean_absolute_error(test, forecast_mean)\n",
    "\n",
    "print(f\"RMSE: {rmse:.2f}, MAE: {mae:.2f}\")"
   ]
  },
  {
   "cell_type": "markdown",
   "id": "bb2db66d",
   "metadata": {},
   "source": [
    "# 7. Scenario Prediction (Example)"
   ]
  },
  {
   "cell_type": "code",
   "execution_count": 26,
   "id": "9d153e2a",
   "metadata": {},
   "outputs": [
    {
     "name": "stdout",
     "output_type": "stream",
     "text": [
      "Baseline revenue (200,000 arrivals): 302542813.5876793\n",
      "Scenario revenue (+10% arrivals): 333898172.84419936\n"
     ]
    },
    {
     "name": "stderr",
     "output_type": "stream",
     "text": [
      "c:\\Users\\nimes\\AppData\\Local\\Programs\\Python\\Python313\\Lib\\site-packages\\sklearn\\utils\\validation.py:2749: UserWarning: X does not have valid feature names, but LinearRegression was fitted with feature names\n",
      "  warnings.warn(\n",
      "c:\\Users\\nimes\\AppData\\Local\\Programs\\Python\\Python313\\Lib\\site-packages\\sklearn\\utils\\validation.py:2749: UserWarning: X does not have valid feature names, but LinearRegression was fitted with feature names\n",
      "  warnings.warn(\n"
     ]
    }
   ],
   "source": [
    "# Simple regression-style scenario: revenue ~ arrivals\n",
    "from sklearn.linear_model import LinearRegression\n",
    "\n",
    "df = df.dropna(subset=[\"tourist_arrivals\", \"tourism_revenue_usd\"])\n",
    "X = df[[\"tourist_arrivals\"]]\n",
    "y = df[\"tourism_revenue_usd\"]\n",
    "\n",
    "linreg = LinearRegression().fit(X, y)\n",
    "\n",
    "# Predict baseline\n",
    "baseline = linreg.predict([[200000]])[0]\n",
    "\n",
    "# Predict if arrivals increase by 10%\n",
    "scenario = linreg.predict([[220000]])[0]\n",
    "\n",
    "print(\"Baseline revenue (200,000 arrivals):\", baseline)\n",
    "print(\"Scenario revenue (+10% arrivals):\", scenario)"
   ]
  },
  {
   "cell_type": "markdown",
   "id": "7d7b1511",
   "metadata": {},
   "source": [
    "# 8. Conclusion for Predictions\n",
    "\n",
    "The predictive analysis of Sri Lanka’s tourism revenue highlights both the potential and challenges of modeling a sector highly sensitive to external conditions. Using a SARIMAX model, we successfully forecasted revenue for the next 12 months with reasonable accuracy (RMSE and MAE scores indicated acceptable error margins). The forecasts suggest a moderate upward trend in revenue, reflecting historical recovery patterns, though confidence intervals reveal substantial uncertainty due to seasonality and data volatility.\n",
    "\n",
    "Scenario-based regression analysis further demonstrated that tourist arrivals are strongly correlated with revenue generation. A 10% increase in arrivals was associated with a proportionally higher revenue projection, reinforcing the importance of boosting arrivals through policy, infrastructure, and promotional strategies.\n",
    "\n",
    "Overall, the predictions show that while tourism revenue can be forecasted with statistical models, accuracy depends heavily on stable external conditions. Future work could incorporate more advanced machine learning approaches (e.g., Random Forest, Gradient Boosting) and integrate exogenous shocks such as global crises, pandemics, or natural disasters to improve predictive reliability."
   ]
  },
  {
   "cell_type": "markdown",
   "id": "c4e91fd2",
   "metadata": {},
   "source": []
  }
 ],
 "metadata": {
  "kernelspec": {
   "display_name": "Python 3",
   "language": "python",
   "name": "python3"
  },
  "language_info": {
   "codemirror_mode": {
    "name": "ipython",
    "version": 3
   },
   "file_extension": ".py",
   "mimetype": "text/x-python",
   "name": "python",
   "nbconvert_exporter": "python",
   "pygments_lexer": "ipython3",
   "version": "3.13.3"
  }
 },
 "nbformat": 4,
 "nbformat_minor": 5
}
