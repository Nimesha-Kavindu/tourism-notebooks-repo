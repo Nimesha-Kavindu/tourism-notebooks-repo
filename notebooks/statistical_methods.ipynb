{
 "cells": [
  {
   "cell_type": "markdown",
   "id": "c7843708",
   "metadata": {},
   "source": [
    "# Statistical Methods\n",
    "\n",
    "**Notebook:** `statistical_methods.ipynb`\n",
    "\n",
    "**Purpose:** Demonstrate sample selection, confidence intervals, hypothesis tests, correlation coefficients, and linear regression examples."
   ]
  },
  {
   "cell_type": "code",
   "execution_count": 3,
   "id": "15439da8",
   "metadata": {},
   "outputs": [
    {
     "name": "stdout",
     "output_type": "stream",
     "text": [
      "Rows after cleaning: 180\n"
     ]
    }
   ],
   "source": [
    "import pandas as pd, numpy as np\n",
    "from pathlib import Path\n",
    "from scipy import stats\n",
    "import statsmodels.api as sm\n",
    "import statsmodels.formula.api as smf\n",
    "pd.options.display.float_format = '{:,.3f}'.format\n",
    "\n",
    "df = pd.read_csv('../data/tourism_clean.csv', parse_dates=['date'])\n",
    "df = df.sort_values('date').reset_index(drop=True)\n",
    "print('Rows after cleaning:', len(df))"
   ]
  },
  {
   "cell_type": "markdown",
   "id": "dcb2b3e0",
   "metadata": {},
   "source": [
    "## 1) Sample selection\n",
    "\n",
    "We will create two samples:\n",
    "- `full_sample`: the full cleaned dataset for descriptive work.\n",
    "- `infer_sample`: a stratified random sample by year (to preserve representation across years) used for inferential examples."
   ]
  },
  {
   "cell_type": "code",
   "execution_count": 4,
   "id": "14e79282",
   "metadata": {},
   "outputs": [
    {
     "name": "stdout",
     "output_type": "stream",
     "text": [
      "Full sample size: 180\n",
      "Inferential sample size: 60\n"
     ]
    },
    {
     "name": "stderr",
     "output_type": "stream",
     "text": [
      "C:\\Users\\nimes\\AppData\\Local\\Temp\\ipykernel_14080\\3507686151.py:6: DeprecationWarning: DataFrameGroupBy.apply operated on the grouping columns. This behavior is deprecated, and in a future version of pandas the grouping columns will be excluded from the operation. Either pass `include_groups=False` to exclude the groupings or explicitly select the grouping columns after groupby to silence this warning.\n",
      "  sampled = data.groupby('year', group_keys=False).apply(lambda x: x.sample(max(1, int(np.ceil(len(x)*frac))), random_state=random_state))\n"
     ]
    }
   ],
   "source": [
    "# Full sample\n",
    "full_sample = df.copy()\n",
    "\n",
    "# Stratified sample: sample 30% of months per year (minimum 1 per year)\n",
    "def stratified_by_year(data, frac=0.3, random_state=42):\n",
    "    sampled = data.groupby('year', group_keys=False).apply(lambda x: x.sample(max(1, int(np.ceil(len(x)*frac))), random_state=random_state))\n",
    "    return sampled\n",
    "\n",
    "infer_sample = stratified_by_year(df, frac=0.3)\n",
    "print('Full sample size:', len(full_sample))\n",
    "print('Inferential sample size:', len(infer_sample))"
   ]
  },
  {
   "cell_type": "markdown",
   "id": "031014c9",
   "metadata": {},
   "source": [
    "## 2) Confidence intervals\n",
    "\n",
    "Compute a 95% CI for mean `avg_stay` using t-distribution."
   ]
  },
  {
   "cell_type": "code",
   "execution_count": 5,
   "id": "5ed06195",
   "metadata": {},
   "outputs": [
    {
     "name": "stdout",
     "output_type": "stream",
     "text": [
      "n=60, mean=9.628, 95% CI=(8.927, 10.328)\n"
     ]
    }
   ],
   "source": [
    "# Confidence interval for avg_stay (95%)\n",
    "x = infer_sample['avg_stay'].dropna()\n",
    "n = len(x)\n",
    "mean = x.mean()\n",
    "std = x.std(ddof=1)\n",
    "se = std / np.sqrt(n)\n",
    "ci_low, ci_high = stats.t.interval(0.95, df=n-1, loc=mean, scale=se)\n",
    "print(f'n={n}, mean={mean:.3f}, 95% CI=({ci_low:.3f}, {ci_high:.3f})')"
   ]
  },
  {
   "cell_type": "markdown",
   "id": "be748053",
   "metadata": {},
   "source": [
    "## 3) Hypothesis testing\n",
    "\n",
    "Example: Do average daily spends differ between `pre_2020` and `post_2020` periods? We'll use Welch's t-test (unequal variance). Exclude pandemic zeros and 2020 period."
   ]
  },
  {
   "cell_type": "code",
   "execution_count": 6,
   "id": "443ad36c",
   "metadata": {},
   "outputs": [
    {
     "name": "stdout",
     "output_type": "stream",
     "text": [
      "pre mean= 133.80291666666668 post mean= 45.276666666666664\n",
      "Welch t-test: t= 28.541 p= 0.0\n"
     ]
    }
   ],
   "source": [
    "pre = df[(df['year']<=2019) & (df['avg_daily_spend']>0)]['avg_daily_spend'].dropna()\n",
    "post = df[(df['year']>=2021) & (df['avg_daily_spend']>0)]['avg_daily_spend'].dropna()\n",
    "tstat, pval = stats.ttest_ind(pre, post, equal_var=False)\n",
    "print('pre mean=', pre.mean(), 'post mean=', post.mean())\n",
    "print('Welch t-test: t=', round(tstat,3), 'p=', round(pval,4))"
   ]
  },
  {
   "cell_type": "markdown",
   "id": "77f57be3",
   "metadata": {},
   "source": [
    "If p < 0.05 we reject the null of equal means at 5% significance."
   ]
  },
  {
   "cell_type": "markdown",
   "id": "8bf2d71d",
   "metadata": {},
   "source": [
    "## 4) Correlation coefficients\n",
    "\n",
    "Compute Pearson and Spearman between arrivals and revenue."
   ]
  },
  {
   "cell_type": "code",
   "execution_count": 7,
   "id": "380983ae",
   "metadata": {},
   "outputs": [
    {
     "name": "stdout",
     "output_type": "stream",
     "text": [
      "Pearson r= 0.957 p= 0.0\n",
      "Spearman rho= 0.968 p= 0.0\n"
     ]
    }
   ],
   "source": [
    "arr = df['tourist_arrivals'].replace(0, np.nan).dropna()\n",
    "rev = df['tourism_revenue_usd'].replace(0, np.nan).dropna()\n",
    "# align indices\n",
    "tmp = df[['tourist_arrivals','tourism_revenue_usd']].replace(0, np.nan).dropna()\n",
    "pearson_r, pearson_p = stats.pearsonr(tmp['tourist_arrivals'], tmp['tourism_revenue_usd'])\n",
    "spearman_r, spearman_p = stats.spearmanr(tmp['tourist_arrivals'], tmp['tourism_revenue_usd'])\n",
    "print('Pearson r=', round(pearson_r,3), 'p=', round(pearson_p,4))\n",
    "print('Spearman rho=', round(spearman_r,3), 'p=', round(spearman_p,4))"
   ]
  },
  {
   "cell_type": "markdown",
   "id": "1bb6b56d",
   "metadata": {},
   "source": [
    "## 5) Linear regression (OLS)\n",
    "\n",
    "Model tourism_revenue_usd as a function of arrivals and other predictors."
   ]
  },
  {
   "cell_type": "code",
   "execution_count": 8,
   "id": "519de97d",
   "metadata": {},
   "outputs": [
    {
     "name": "stdout",
     "output_type": "stream",
     "text": [
      "                             OLS Regression Results                            \n",
      "===============================================================================\n",
      "Dep. Variable:     tourism_revenue_usd   R-squared:                       0.955\n",
      "Model:                             OLS   Adj. R-squared:                  0.954\n",
      "Method:                  Least Squares   F-statistic:                     705.2\n",
      "Date:                 Sat, 06 Sep 2025   Prob (F-statistic):          2.42e-109\n",
      "Time:                         14:05:50   Log-Likelihood:                -3134.1\n",
      "No. Observations:                  171   AIC:                             6280.\n",
      "Df Residuals:                      165   BIC:                             6299.\n",
      "Df Model:                            5                                         \n",
      "Covariance Type:             nonrobust                                         \n",
      "=========================================================================================\n",
      "                            coef    std err          t      P>|t|      [0.025      0.975]\n",
      "-----------------------------------------------------------------------------------------\n",
      "Intercept             -2.516e+08   3.91e+07     -6.444      0.000   -3.29e+08   -1.75e+08\n",
      "tourist_arrivals       1344.1065     47.259     28.441      0.000    1250.796    1437.417\n",
      "avg_stay               8.094e+06   1.86e+06      4.349      0.000    4.42e+06    1.18e+07\n",
      "avg_daily_spend        7.042e+05   6.29e+04     11.189      0.000     5.8e+05    8.29e+05\n",
      "hotel_occupancy_rate   3.134e+05   2.24e+05      1.397      0.164    -1.3e+05    7.56e+05\n",
      "exchange_rate_lkr_usd  4.852e+05   5.69e+04      8.528      0.000    3.73e+05    5.98e+05\n",
      "==============================================================================\n",
      "Omnibus:                        1.053   Durbin-Watson:                   0.296\n",
      "Prob(Omnibus):                  0.591   Jarque-Bera (JB):                0.714\n",
      "Skew:                           0.126   Prob(JB):                        0.700\n",
      "Kurtosis:                       3.191   Cond. No.                     3.08e+06\n",
      "==============================================================================\n",
      "\n",
      "Notes:\n",
      "[1] Standard Errors assume that the covariance matrix of the errors is correctly specified.\n",
      "[2] The condition number is large, 3.08e+06. This might indicate that there are\n",
      "strong multicollinearity or other numerical problems.\n"
     ]
    }
   ],
   "source": [
    "# Prepare data: drop zero-revenue months and NA\n",
    "model_df = df[df['tourism_revenue_usd']>0].copy()\n",
    "model_df = model_df.dropna(subset=['tourism_revenue_usd','tourist_arrivals','avg_stay','avg_daily_spend','hotel_occupancy_rate','exchange_rate_lkr_usd'])\n",
    "\n",
    "formula = 'tourism_revenue_usd ~ tourist_arrivals + avg_stay + avg_daily_spend + hotel_occupancy_rate + exchange_rate_lkr_usd'\n",
    "model = smf.ols(formula=formula, data=model_df).fit()\n",
    "print(model.summary())"
   ]
  },
  {
   "cell_type": "markdown",
   "id": "8adcc0c2",
   "metadata": {},
   "source": [
    "### Diagnostics: residual plot and VIF"
   ]
  },
  {
   "cell_type": "code",
   "execution_count": 10,
   "id": "f4c40258",
   "metadata": {},
   "outputs": [
    {
     "data": {
      "image/png": "[encoded data removed]",
      "text/plain": [
       "<Figure size 800x400 with 1 Axes>"
      ]
     },
     "metadata": {},
     "output_type": "display_data"
    },
    {
     "name": "stdout",
     "output_type": "stream",
     "text": [
      "VIFs: {'tourist_arrivals': np.float64(3.0012447270723146), 'avg_stay': np.float64(2.907595335313397), 'avg_daily_spend': np.float64(3.259142670122251), 'hotel_occupancy_rate': np.float64(6.096335110621386), 'exchange_rate_lkr_usd': np.float64(6.627458202927905)}\n"
     ]
    }
   ],
   "source": [
    "# Residual plot\n",
    "from matplotlib import pyplot as plt\n",
    "\n",
    "\n",
    "resid = model.resid\n",
    "fitted = model.fittedvalues\n",
    "plt.figure(figsize=(8,4))\n",
    "plt.scatter(fitted, resid, alpha=0.6)\n",
    "plt.axhline(0, linestyle='--')\n",
    "plt.xlabel('Fitted values')\n",
    "plt.ylabel('Residuals')\n",
    "plt.title('Residuals vs Fitted')\n",
    "plt.tight_layout()\n",
    "plt.show()\n",
    "\n",
    "# VIF (variance inflation factor)\n",
    "from statsmodels.stats.outliers_influence import variance_inflation_factor\n",
    "X = model_df[['tourist_arrivals','avg_stay','avg_daily_spend','hotel_occupancy_rate','exchange_rate_lkr_usd']].assign(const=1)\n",
    "vifs = {col: variance_inflation_factor(X.values, i) for i,col in enumerate(X.columns) if col!='const'}\n",
    "print('VIFs:', vifs)"
   ]
  }
 ],
 "metadata": {
  "kernelspec": {
   "display_name": "Python 3",
   "language": "python",
   "name": "python3"
  },
  "language_info": {
   "codemirror_mode": {
    "name": "ipython",
    "version": 3
   },
   "file_extension": ".py",
   "mimetype": "text/x-python",
   "name": "python",
   "nbconvert_exporter": "python",
   "pygments_lexer": "ipython3",
   "version": "3.13.3"
  }
 },
 "nbformat": 4,
 "nbformat_minor": 5
}
